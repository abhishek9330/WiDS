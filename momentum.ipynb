{
 "cells": [
  {
   "cell_type": "code",
   "execution_count": 178,
   "id": "b221e63b-d3e5-4b08-b049-7d912d2cbcf2",
   "metadata": {},
   "outputs": [],
   "source": [
    "import pandas as pd\n",
    "import numpy as np\n",
    "import datetime\n",
    "import matplotlib.pyplot as plt\n",
    "import seaborn as sns\n",
    "\n",
    "N=50\n",
    "T=7\n",
    "R=0.8\n",
    "M=5\n",
    "F=0.005"
   ]
  },
  {
   "cell_type": "code",
   "execution_count": 179,
   "id": "1a14e340-1609-46dd-8d38-a9b5ab33696a",
   "metadata": {},
   "outputs": [],
   "source": [
    "def GetData(file):\n",
    "\n",
    "    data = pd.read_csv(file)\n",
    "    data = data[[\"datadate\",\"tic\",\"adjcp\"]]\n",
    "    return data    "
   ]
  },
  {
   "cell_type": "code",
   "execution_count": null,
   "id": "f2db1781-3dc4-4a7a-9e6e-75e1752ff438",
   "metadata": {},
   "outputs": [],
   "source": []
  },
  {
   "cell_type": "code",
   "execution_count": 180,
   "id": "3a5a1086-cca6-4da7-98d4-957d5bebcd1c",
   "metadata": {},
   "outputs": [],
   "source": [
    "# YYYYMMDD\n",
    "\n",
    "def PartitionData(Data):\n",
    "    DateToIndex = {}\n",
    "    i = 0\n",
    "    SmallerData = []\n",
    "    IndexToDay = {}\n",
    "    \n",
    "    for date in Data[\"datadate\"].unique():\n",
    "        day_data = Data[Data[\"datadate\"] == date].copy()\n",
    "        IndexToDay[i] = date\n",
    "        SmallerData.append(day_data)\n",
    "        DateToIndex[date] = i\n",
    "        i += 1  \n",
    "    \n",
    "    return SmallerData, DateToIndex, IndexToDay"
   ]
  },
  {
   "cell_type": "code",
   "execution_count": 181,
   "id": "8ab595bf-c32b-4453-9d48-a095c18504ad",
   "metadata": {},
   "outputs": [],
   "source": [
    "temp = PartitionData(GetData(\"DATA.csv\"))"
   ]
  },
  {
   "cell_type": "code",
   "execution_count": 182,
   "id": "4f8b3051-b1d8-4a3e-a314-803c47fe7cdd",
   "metadata": {},
   "outputs": [],
   "source": [
    "# SmallerData-> horizontal slices in the original data based on date\n",
    "# DatToIndex-> put in the date to get the index and hence the data for that day\n",
    "\n",
    "SmallerData = temp[0]\n",
    "DayToIndex = temp[1]\n",
    "IndexToDay = temp[2]"
   ]
  },
  {
   "cell_type": "code",
   "execution_count": 183,
   "id": "6208abb7-af6a-4ece-8b05-03217517e5e4",
   "metadata": {},
   "outputs": [],
   "source": [
    "# assuming today is one of the days from the data given\n",
    "def GetMomentumBasedPriority(SmallerData, DayToIndex, today):\n",
    "    today = int(today)\n",
    "    k = DayToIndex[today]\n",
    "    j = k-N\n",
    "\n",
    "    sum = [0.0]*30\n",
    "    sum = np.array(sum)\n",
    "    first=[]\n",
    "\n",
    "    data = SmallerData[j]\n",
    "    for value in data[\"adjcp\"]:\n",
    "        first.append(value)\n",
    "    \n",
    "    for it in range(N):\n",
    "        data = SmallerData[j]\n",
    "        i=0\n",
    "        for value in data[\"adjcp\"]:\n",
    "            sum[i]+=float(value)\n",
    "            i+=1\n",
    "        j+=1\n",
    "\n",
    "    data = SmallerData[k]\n",
    "    i=0\n",
    "    ans = np.zeros((30, 2))\n",
    "\n",
    "    for value in data[\"adjcp\"]:\n",
    "        div = sum[i]\n",
    "        temp = (value - first[i]) / div\n",
    "        ans[i][0] = temp\n",
    "        ans[i][1] = i\n",
    "        i+=1\n",
    "    \n",
    "    sorted_indices = np.argsort(ans[:, 0])[::-1]\n",
    "    ans = ans[sorted_indices]\n",
    "    return ans\n"
   ]
  },
  {
   "cell_type": "code",
   "execution_count": 184,
   "id": "443f2fb7-19e1-451b-9165-5227c79bc239",
   "metadata": {},
   "outputs": [],
   "source": [
    "def GetBalanced(prices, weights, balance):\n",
    "    sum=0.0\n",
    "    for pair in weights:\n",
    "        id = int(pair[1])\n",
    "        sum+=prices[id]*pair[0]\n",
    "\n",
    "    xval = (float(balance))/sum\n",
    "\n",
    "    ans = np.zeros(30, dtype=float)\n",
    "    cost=0.0\n",
    "    for pair in weights:\n",
    "        id = int(pair[1])\n",
    "        num = xval*pair[0]\n",
    "        ans[id] = num\n",
    "        cost+=ans[id]*prices[id]\n",
    "            \n",
    "    return ans"
   ]
  },
  {
   "cell_type": "code",
   "execution_count": 185,
   "id": "3310c20e-c1d2-412a-9ff8-62dc48642871",
   "metadata": {},
   "outputs": [],
   "source": [
    "class PortFolio:\n",
    "    initial=0.0\n",
    "    cur=0.0\n",
    "    holdings = np.zeros(30, dtype = float)\n",
    "    latest_prices = []\n",
    "    def __init__(self, bal):\n",
    "        self.initial = bal\n",
    "        self.current = bal\n",
    "\n",
    "    # def SellStock(self, index):\n",
    "    #     self.current+=latest_prices[index]\n",
    "    #     holdings[index]-=1\n",
    "        \n",
    "    def BuyStock(self, index, number):\n",
    "        self.current-=self.latest_prices[index]*number\n",
    "        self.holdings[index]+=number\n",
    "\n",
    "    def CalculateNetWorth(self):\n",
    "        ans=0.0\n",
    "        for i in range(30):\n",
    "            ans+=self.latest_prices[i]*self.holdings[i]\n",
    "        return ans+self.current\n",
    "        \n",
    "    def ChangePricesTo(self,prices):\n",
    "        self.latest_prices = prices\n",
    "\n",
    "    def RebalancePortfolio(self, weights):  #weights is array of pairs\n",
    "        for i in range(30):\n",
    "            self.current+=self.holdings[i]*self.latest_prices[i] #include fee later\n",
    "            self.holdings[i] = 0.0\n",
    "        weight = [w for w in weights if w[0]>0]\n",
    "\n",
    "        buy = GetBalanced(self.latest_prices, weight, self.current)\n",
    "\n",
    "        for i in range(30):\n",
    "            self.BuyStock(i, buy[i])\n",
    "        "
   ]
  },
  {
   "cell_type": "code",
   "execution_count": 192,
   "id": "1853cd3f-0337-4ba7-a4e1-69ef9125ac18",
   "metadata": {},
   "outputs": [],
   "source": [
    "me = PortFolio(10000)\n",
    "\n",
    "NetWorths = []\n",
    "\n",
    "\n",
    "for i in range(50,100):\n",
    "    data = SmallerData[i]\n",
    "    today = IndexToDay[50]\n",
    "    prices = []\n",
    "    for cp in data[\"adjcp\"]:\n",
    "        prices.append(cp)\n",
    "    me.ChangePricesTo(prices)\n",
    "    me.RebalancePortfolio(GetMomentumBasedPriority(SmallerData, DayToIndex, today))\n",
    "    NetWorths.append(me.CalculateNetWorth())\n",
    "\n"
   ]
  },
  {
   "cell_type": "code",
   "execution_count": null,
   "id": "c8a60802-8a94-44ce-973b-92a61a8f6fa8",
   "metadata": {},
   "outputs": [],
   "source": []
  }
 ],
 "metadata": {
  "kernelspec": {
   "display_name": "Python 3 (ipykernel)",
   "language": "python",
   "name": "python3"
  },
  "language_info": {
   "codemirror_mode": {
    "name": "ipython",
    "version": 3
   },
   "file_extension": ".py",
   "mimetype": "text/x-python",
   "name": "python",
   "nbconvert_exporter": "python",
   "pygments_lexer": "ipython3",
   "version": "3.11.3"
  }
 },
 "nbformat": 4,
 "nbformat_minor": 5
}
