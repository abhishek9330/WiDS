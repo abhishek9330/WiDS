{
 "cells": [
  {
   "cell_type": "code",
   "execution_count": 1,
   "id": "341a4173-c7ad-4df4-b4b5-1b74dbfb859e",
   "metadata": {},
   "outputs": [],
   "source": [
    "File = open('harry.txt','r', encoding = 'utf-8')"
   ]
  },
  {
   "cell_type": "code",
   "execution_count": 2,
   "id": "d0846f9e-287b-4c0a-985e-dff5abb31ffa",
   "metadata": {},
   "outputs": [],
   "source": [
    "DictionaryOfWords = {}\n",
    "Novel = []\n",
    "i = 0\n",
    "\n",
    "for line in File.readlines():\n",
    "    line = line.replace(\".\", \"\").replace(\",\", \"\").replace('?', '').replace('!', '').replace('[', '').replace(']', '') \\\n",
    "        .replace('(', '').replace(')', '').replace('%', '').replace('/', '')\n",
    "    for word in line.split(' '):\n",
    "        if word in DictionaryOfWords:\n",
    "            DictionaryOfWords[word].append(i)\n",
    "        else:\n",
    "            DictionaryOfWords[word] = [i]\n",
    "\n",
    "        Novel.append(word)\n",
    "        i += 1\n"
   ]
  },
  {
   "cell_type": "code",
   "execution_count": 3,
   "id": "63659007-90a1-40df-a9c1-d1c5d5e56e8c",
   "metadata": {},
   "outputs": [],
   "source": [
    "def GetQuery():\n",
    "    word = input(\"Enter the word\")\n",
    "    number = input(\"Enter the number of results\")\n",
    "\n",
    "    return (word,number)"
   ]
  },
  {
   "cell_type": "code",
   "execution_count": 4,
   "id": "29702c0f-b736-4b26-b0ae-4d9377889031",
   "metadata": {},
   "outputs": [],
   "source": [
    "def PrintContext(index):\n",
    "\n",
    "    for i in range(0,10):\n",
    "        print(Novel[index] ,end=' ')\n",
    "        index+=1\n",
    "        \n",
    "    print('\\n')"
   ]
  },
  {
   "cell_type": "code",
   "execution_count": 7,
   "id": "1b724ca7-8aeb-40de-9f1a-f3ea48d558f0",
   "metadata": {},
   "outputs": [],
   "source": [
    "def PrintResult(word,number):\n",
    "\n",
    "    L = DictionaryOfWords[word]\n",
    "\n",
    "    for i in range(0,int(number)):\n",
    "        PrintContext(L[i])\n",
    "    "
   ]
  },
  {
   "cell_type": "code",
   "execution_count": 6,
   "id": "b3f6eeb7-baaa-4ff4-b9b1-c2d01534efb4",
   "metadata": {},
   "outputs": [
    {
     "name": "stdin",
     "output_type": "stream",
     "text": [
      "Do you wanna query! N\n"
     ]
    },
    {
     "name": "stdout",
     "output_type": "stream",
     "text": [
      "Good Choice\n"
     ]
    }
   ],
   "source": [
    "while 1>0:\n",
    "\n",
    "    Choice = input(\"Do you wanna query!\")\n",
    "    final_choice = 'N'\n",
    "    if(Choice=='Y'):\n",
    "        final_choice = input(\"Really!!! Are you sure?\")\n",
    "\n",
    "    if(final_choice=='Y'):\n",
    "        inp = GetQuery()\n",
    "        PrintResult(inp[0],inp[1])\n",
    "    else:\n",
    "        print(\"Good Choice\")\n",
    "        break"
   ]
  },
  {
   "cell_type": "code",
   "execution_count": null,
   "id": "e890bbf5-21fd-4c8b-957d-7ef15c2b6479",
   "metadata": {},
   "outputs": [],
   "source": []
  }
 ],
 "metadata": {
  "kernelspec": {
   "display_name": "Python 3 (ipykernel)",
   "language": "python",
   "name": "python3"
  },
  "language_info": {
   "codemirror_mode": {
    "name": "ipython",
    "version": 3
   },
   "file_extension": ".py",
   "mimetype": "text/x-python",
   "name": "python",
   "nbconvert_exporter": "python",
   "pygments_lexer": "ipython3",
   "version": "3.11.3"
  }
 },
 "nbformat": 4,
 "nbformat_minor": 5
}
